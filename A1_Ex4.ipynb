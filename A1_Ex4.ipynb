{
 "cells": [
  {
   "cell_type": "code",
   "execution_count": 9,
   "metadata": {},
   "outputs": [],
   "source": [
    "import numpy as np\n",
    "s = 15 #stock price at time 0 in euro\n",
    "u = 1.05 #up multiplier\n",
    "d = 0.79 #down multiplier\n",
    "T = 10 #maturity time\n",
    "K = 8 #strike price\n",
    "r1 = 0.045/365 #daily interest rate; 1+r1 multiplier, not exp(r1)\n",
    "q = (1+r1-d)/(u-d) #risk neutral probability for up\n"
   ]
  },
  {
   "cell_type": "code",
   "execution_count": 10,
   "metadata": {},
   "outputs": [
    {
     "name": "stdout",
     "output_type": "stream",
     "text": [
      "Stock prices:\n",
      "[[15.   15.75 16.54 17.36 18.23 19.14 20.1  21.11 22.16 23.27 24.43]\n",
      " [  nan 11.85 12.44 13.06 13.72 14.4  15.12 15.88 16.67 17.51 18.38]\n",
      " [  nan   nan  9.36  9.83 10.32 10.84 11.38 11.95 12.55 13.17 13.83]\n",
      " [  nan   nan   nan  7.4   7.77  8.15  8.56  8.99  9.44  9.91 10.41]\n",
      " [  nan   nan   nan   nan  5.84  6.13  6.44  6.76  7.1   7.46  7.83]\n",
      " [  nan   nan   nan   nan   nan  4.62  4.85  5.09  5.34  5.61  5.89]\n",
      " [  nan   nan   nan   nan   nan   nan  3.65  3.83  4.02  4.22  4.43]\n",
      " [  nan   nan   nan   nan   nan   nan   nan  2.88  3.02  3.18  3.33]\n",
      " [  nan   nan   nan   nan   nan   nan   nan   nan  2.28  2.39  2.51]\n",
      " [  nan   nan   nan   nan   nan   nan   nan   nan   nan  1.8   1.89]\n",
      " [  nan   nan   nan   nan   nan   nan   nan   nan   nan   nan  1.42]]\n"
     ]
    }
   ],
   "source": [
    "# Determine possible stock prices up to maturity\n",
    "stockprice = np.full((T+1,T+1),np.nan)\n",
    "stockprice[0,0] = s\n",
    "for j in range(1,T+1):\n",
    "    for i in range(0,j):\n",
    "        stockprice[i,j] = stockprice[i,j-1]*u\n",
    "        stockprice[i+1,j] = stockprice[i,j-1]*d\n",
    "print(\"Stock prices:\")\n",
    "print(np.around(stockprice, 2)) #just for visualisation"
   ]
  },
  {
   "cell_type": "code",
   "execution_count": 11,
   "metadata": {},
   "outputs": [
    {
     "name": "stdout",
     "output_type": "stream",
     "text": [
      "Call option prices:\n",
      "[[ 7.09  7.81  8.57  9.38 10.24 11.15 12.11 13.11 14.16 15.27 16.43]\n",
      " [  nan  4.07  4.59  5.16  5.77  6.43  7.13  7.88  8.68  9.51 10.38]\n",
      " [  nan   nan  1.89  2.21  2.58  2.99  3.46  3.98  4.55  5.17  5.83]\n",
      " [  nan   nan   nan  0.54  0.67  0.83  1.03  1.27  1.57  1.94  2.41]\n",
      " [  nan   nan   nan   nan  0.    0.    0.    0.    0.    0.    0.  ]\n",
      " [  nan   nan   nan   nan   nan  0.    0.    0.    0.    0.    0.  ]\n",
      " [  nan   nan   nan   nan   nan   nan  0.    0.    0.    0.    0.  ]\n",
      " [  nan   nan   nan   nan   nan   nan   nan  0.    0.    0.    0.  ]\n",
      " [  nan   nan   nan   nan   nan   nan   nan   nan  0.    0.    0.  ]\n",
      " [  nan   nan   nan   nan   nan   nan   nan   nan   nan  0.    0.  ]\n",
      " [  nan   nan   nan   nan   nan   nan   nan   nan   nan   nan  0.  ]]\n"
     ]
    }
   ],
   "source": [
    "# Determine European call option prices and conditional values\n",
    "calloption = np.full((T+1,T+1),np.nan)\n",
    "calloption[:,-1] = np.where(stockprice[:,-1]-K<0,0,stockprice[:,-1]-K)\n",
    "for j in range(T-1,-1,-1):\n",
    "    for i in range(0,j+1):\n",
    "        calloption[i,j] = (q*calloption[i,j+1]+(1-q)*calloption[i+1,j+1])/(1+r1)\n",
    "print(\"Call option prices:\")\n",
    "print(np.around(calloption, 2)) #just for visualisation"
   ]
  },
  {
   "cell_type": "code",
   "execution_count": null,
   "metadata": {},
   "outputs": [],
   "source": []
  }
 ],
 "metadata": {
  "kernelspec": {
   "display_name": "Python 3",
   "language": "python",
   "name": "python3"
  },
  "language_info": {
   "codemirror_mode": {
    "name": "ipython",
    "version": 3
   },
   "file_extension": ".py",
   "mimetype": "text/x-python",
   "name": "python",
   "nbconvert_exporter": "python",
   "pygments_lexer": "ipython3",
   "version": "3.9.6"
  }
 },
 "nbformat": 4,
 "nbformat_minor": 2
}
